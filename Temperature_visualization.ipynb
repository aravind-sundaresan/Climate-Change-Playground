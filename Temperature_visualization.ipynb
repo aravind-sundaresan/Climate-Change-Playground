{
 "cells": [
  {
   "cell_type": "code",
   "execution_count": 1,
   "metadata": {
    "collapsed": true
   },
   "outputs": [],
   "source": [
    "__author__ = \"whackadoodle\"\n",
    "\n",
    "import numpy as np\n",
    "import pandas as pd\n",
    "import matplotlib.pyplot as plt\n",
    "%matplotlib inline\n",
    "import plotly.plotly as py\n",
    "import plotly.graph_objs as go\n",
    "import warnings\n",
    "warnings.filterwarnings('ignore')"
   ]
  },
  {
   "cell_type": "markdown",
   "metadata": {},
   "source": [
    "## Reading the Data"
   ]
  },
  {
   "cell_type": "code",
   "execution_count": 2,
   "metadata": {
    "collapsed": false
   },
   "outputs": [
    {
     "data": {
      "text/plain": [
       "array(['dt', 'LandAverageTemperature', 'LandAverageTemperatureUncertainty',\n",
       "       'LandMaxTemperature', 'LandMaxTemperatureUncertainty',\n",
       "       'LandMinTemperature', 'LandMinTemperatureUncertainty',\n",
       "       'LandAndOceanAverageTemperature',\n",
       "       'LandAndOceanAverageTemperatureUncertainty'], dtype=object)"
      ]
     },
     "execution_count": 2,
     "metadata": {},
     "output_type": "execute_result"
    }
   ],
   "source": [
    "global_temperatures_df = pd.read_csv(\"../input/GlobalTemperatures.csv\")\n",
    "\n",
    "global_temperatures_df.columns.values"
   ]
  },
  {
   "cell_type": "code",
   "execution_count": 3,
   "metadata": {
    "collapsed": false,
    "scrolled": false
   },
   "outputs": [
    {
     "data": {
      "text/html": [
       "<div>\n",
       "<table border=\"1\" class=\"dataframe\">\n",
       "  <thead>\n",
       "    <tr style=\"text-align: right;\">\n",
       "      <th></th>\n",
       "      <th>dt</th>\n",
       "      <th>LandAverageTemperature</th>\n",
       "      <th>LandAverageTemperatureUncertainty</th>\n",
       "      <th>LandMaxTemperature</th>\n",
       "      <th>LandMaxTemperatureUncertainty</th>\n",
       "      <th>LandMinTemperature</th>\n",
       "      <th>LandMinTemperatureUncertainty</th>\n",
       "      <th>LandAndOceanAverageTemperature</th>\n",
       "      <th>LandAndOceanAverageTemperatureUncertainty</th>\n",
       "    </tr>\n",
       "  </thead>\n",
       "  <tbody>\n",
       "    <tr>\n",
       "      <th>0</th>\n",
       "      <td>1750-01-01</td>\n",
       "      <td>3.034</td>\n",
       "      <td>3.574</td>\n",
       "      <td>NaN</td>\n",
       "      <td>NaN</td>\n",
       "      <td>NaN</td>\n",
       "      <td>NaN</td>\n",
       "      <td>NaN</td>\n",
       "      <td>NaN</td>\n",
       "    </tr>\n",
       "    <tr>\n",
       "      <th>1</th>\n",
       "      <td>1750-02-01</td>\n",
       "      <td>3.083</td>\n",
       "      <td>3.702</td>\n",
       "      <td>NaN</td>\n",
       "      <td>NaN</td>\n",
       "      <td>NaN</td>\n",
       "      <td>NaN</td>\n",
       "      <td>NaN</td>\n",
       "      <td>NaN</td>\n",
       "    </tr>\n",
       "    <tr>\n",
       "      <th>2</th>\n",
       "      <td>1750-03-01</td>\n",
       "      <td>5.626</td>\n",
       "      <td>3.076</td>\n",
       "      <td>NaN</td>\n",
       "      <td>NaN</td>\n",
       "      <td>NaN</td>\n",
       "      <td>NaN</td>\n",
       "      <td>NaN</td>\n",
       "      <td>NaN</td>\n",
       "    </tr>\n",
       "    <tr>\n",
       "      <th>3</th>\n",
       "      <td>1750-04-01</td>\n",
       "      <td>8.490</td>\n",
       "      <td>2.451</td>\n",
       "      <td>NaN</td>\n",
       "      <td>NaN</td>\n",
       "      <td>NaN</td>\n",
       "      <td>NaN</td>\n",
       "      <td>NaN</td>\n",
       "      <td>NaN</td>\n",
       "    </tr>\n",
       "    <tr>\n",
       "      <th>4</th>\n",
       "      <td>1750-05-01</td>\n",
       "      <td>11.573</td>\n",
       "      <td>2.072</td>\n",
       "      <td>NaN</td>\n",
       "      <td>NaN</td>\n",
       "      <td>NaN</td>\n",
       "      <td>NaN</td>\n",
       "      <td>NaN</td>\n",
       "      <td>NaN</td>\n",
       "    </tr>\n",
       "    <tr>\n",
       "      <th>5</th>\n",
       "      <td>1750-06-01</td>\n",
       "      <td>12.937</td>\n",
       "      <td>1.724</td>\n",
       "      <td>NaN</td>\n",
       "      <td>NaN</td>\n",
       "      <td>NaN</td>\n",
       "      <td>NaN</td>\n",
       "      <td>NaN</td>\n",
       "      <td>NaN</td>\n",
       "    </tr>\n",
       "    <tr>\n",
       "      <th>6</th>\n",
       "      <td>1750-07-01</td>\n",
       "      <td>15.868</td>\n",
       "      <td>1.911</td>\n",
       "      <td>NaN</td>\n",
       "      <td>NaN</td>\n",
       "      <td>NaN</td>\n",
       "      <td>NaN</td>\n",
       "      <td>NaN</td>\n",
       "      <td>NaN</td>\n",
       "    </tr>\n",
       "    <tr>\n",
       "      <th>7</th>\n",
       "      <td>1750-08-01</td>\n",
       "      <td>14.750</td>\n",
       "      <td>2.231</td>\n",
       "      <td>NaN</td>\n",
       "      <td>NaN</td>\n",
       "      <td>NaN</td>\n",
       "      <td>NaN</td>\n",
       "      <td>NaN</td>\n",
       "      <td>NaN</td>\n",
       "    </tr>\n",
       "    <tr>\n",
       "      <th>8</th>\n",
       "      <td>1750-09-01</td>\n",
       "      <td>11.413</td>\n",
       "      <td>2.637</td>\n",
       "      <td>NaN</td>\n",
       "      <td>NaN</td>\n",
       "      <td>NaN</td>\n",
       "      <td>NaN</td>\n",
       "      <td>NaN</td>\n",
       "      <td>NaN</td>\n",
       "    </tr>\n",
       "    <tr>\n",
       "      <th>9</th>\n",
       "      <td>1750-10-01</td>\n",
       "      <td>6.367</td>\n",
       "      <td>2.668</td>\n",
       "      <td>NaN</td>\n",
       "      <td>NaN</td>\n",
       "      <td>NaN</td>\n",
       "      <td>NaN</td>\n",
       "      <td>NaN</td>\n",
       "      <td>NaN</td>\n",
       "    </tr>\n",
       "    <tr>\n",
       "      <th>10</th>\n",
       "      <td>1750-11-01</td>\n",
       "      <td>NaN</td>\n",
       "      <td>NaN</td>\n",
       "      <td>NaN</td>\n",
       "      <td>NaN</td>\n",
       "      <td>NaN</td>\n",
       "      <td>NaN</td>\n",
       "      <td>NaN</td>\n",
       "      <td>NaN</td>\n",
       "    </tr>\n",
       "    <tr>\n",
       "      <th>11</th>\n",
       "      <td>1750-12-01</td>\n",
       "      <td>2.772</td>\n",
       "      <td>2.970</td>\n",
       "      <td>NaN</td>\n",
       "      <td>NaN</td>\n",
       "      <td>NaN</td>\n",
       "      <td>NaN</td>\n",
       "      <td>NaN</td>\n",
       "      <td>NaN</td>\n",
       "    </tr>\n",
       "    <tr>\n",
       "      <th>12</th>\n",
       "      <td>1751-01-01</td>\n",
       "      <td>2.495</td>\n",
       "      <td>3.469</td>\n",
       "      <td>NaN</td>\n",
       "      <td>NaN</td>\n",
       "      <td>NaN</td>\n",
       "      <td>NaN</td>\n",
       "      <td>NaN</td>\n",
       "      <td>NaN</td>\n",
       "    </tr>\n",
       "    <tr>\n",
       "      <th>13</th>\n",
       "      <td>1751-02-01</td>\n",
       "      <td>0.963</td>\n",
       "      <td>3.827</td>\n",
       "      <td>NaN</td>\n",
       "      <td>NaN</td>\n",
       "      <td>NaN</td>\n",
       "      <td>NaN</td>\n",
       "      <td>NaN</td>\n",
       "      <td>NaN</td>\n",
       "    </tr>\n",
       "    <tr>\n",
       "      <th>14</th>\n",
       "      <td>1751-03-01</td>\n",
       "      <td>5.800</td>\n",
       "      <td>3.051</td>\n",
       "      <td>NaN</td>\n",
       "      <td>NaN</td>\n",
       "      <td>NaN</td>\n",
       "      <td>NaN</td>\n",
       "      <td>NaN</td>\n",
       "      <td>NaN</td>\n",
       "    </tr>\n",
       "    <tr>\n",
       "      <th>15</th>\n",
       "      <td>1751-04-01</td>\n",
       "      <td>7.670</td>\n",
       "      <td>2.368</td>\n",
       "      <td>NaN</td>\n",
       "      <td>NaN</td>\n",
       "      <td>NaN</td>\n",
       "      <td>NaN</td>\n",
       "      <td>NaN</td>\n",
       "      <td>NaN</td>\n",
       "    </tr>\n",
       "    <tr>\n",
       "      <th>16</th>\n",
       "      <td>1751-05-01</td>\n",
       "      <td>NaN</td>\n",
       "      <td>NaN</td>\n",
       "      <td>NaN</td>\n",
       "      <td>NaN</td>\n",
       "      <td>NaN</td>\n",
       "      <td>NaN</td>\n",
       "      <td>NaN</td>\n",
       "      <td>NaN</td>\n",
       "    </tr>\n",
       "    <tr>\n",
       "      <th>17</th>\n",
       "      <td>1751-06-01</td>\n",
       "      <td>13.827</td>\n",
       "      <td>1.801</td>\n",
       "      <td>NaN</td>\n",
       "      <td>NaN</td>\n",
       "      <td>NaN</td>\n",
       "      <td>NaN</td>\n",
       "      <td>NaN</td>\n",
       "      <td>NaN</td>\n",
       "    </tr>\n",
       "    <tr>\n",
       "      <th>18</th>\n",
       "      <td>1751-07-01</td>\n",
       "      <td>NaN</td>\n",
       "      <td>NaN</td>\n",
       "      <td>NaN</td>\n",
       "      <td>NaN</td>\n",
       "      <td>NaN</td>\n",
       "      <td>NaN</td>\n",
       "      <td>NaN</td>\n",
       "      <td>NaN</td>\n",
       "    </tr>\n",
       "    <tr>\n",
       "      <th>19</th>\n",
       "      <td>1751-08-01</td>\n",
       "      <td>14.405</td>\n",
       "      <td>2.296</td>\n",
       "      <td>NaN</td>\n",
       "      <td>NaN</td>\n",
       "      <td>NaN</td>\n",
       "      <td>NaN</td>\n",
       "      <td>NaN</td>\n",
       "      <td>NaN</td>\n",
       "    </tr>\n",
       "  </tbody>\n",
       "</table>\n",
       "</div>"
      ],
      "text/plain": [
       "            dt  LandAverageTemperature  LandAverageTemperatureUncertainty  \\\n",
       "0   1750-01-01                   3.034                              3.574   \n",
       "1   1750-02-01                   3.083                              3.702   \n",
       "2   1750-03-01                   5.626                              3.076   \n",
       "3   1750-04-01                   8.490                              2.451   \n",
       "4   1750-05-01                  11.573                              2.072   \n",
       "5   1750-06-01                  12.937                              1.724   \n",
       "6   1750-07-01                  15.868                              1.911   \n",
       "7   1750-08-01                  14.750                              2.231   \n",
       "8   1750-09-01                  11.413                              2.637   \n",
       "9   1750-10-01                   6.367                              2.668   \n",
       "10  1750-11-01                     NaN                                NaN   \n",
       "11  1750-12-01                   2.772                              2.970   \n",
       "12  1751-01-01                   2.495                              3.469   \n",
       "13  1751-02-01                   0.963                              3.827   \n",
       "14  1751-03-01                   5.800                              3.051   \n",
       "15  1751-04-01                   7.670                              2.368   \n",
       "16  1751-05-01                     NaN                                NaN   \n",
       "17  1751-06-01                  13.827                              1.801   \n",
       "18  1751-07-01                     NaN                                NaN   \n",
       "19  1751-08-01                  14.405                              2.296   \n",
       "\n",
       "    LandMaxTemperature  LandMaxTemperatureUncertainty  LandMinTemperature  \\\n",
       "0                  NaN                            NaN                 NaN   \n",
       "1                  NaN                            NaN                 NaN   \n",
       "2                  NaN                            NaN                 NaN   \n",
       "3                  NaN                            NaN                 NaN   \n",
       "4                  NaN                            NaN                 NaN   \n",
       "5                  NaN                            NaN                 NaN   \n",
       "6                  NaN                            NaN                 NaN   \n",
       "7                  NaN                            NaN                 NaN   \n",
       "8                  NaN                            NaN                 NaN   \n",
       "9                  NaN                            NaN                 NaN   \n",
       "10                 NaN                            NaN                 NaN   \n",
       "11                 NaN                            NaN                 NaN   \n",
       "12                 NaN                            NaN                 NaN   \n",
       "13                 NaN                            NaN                 NaN   \n",
       "14                 NaN                            NaN                 NaN   \n",
       "15                 NaN                            NaN                 NaN   \n",
       "16                 NaN                            NaN                 NaN   \n",
       "17                 NaN                            NaN                 NaN   \n",
       "18                 NaN                            NaN                 NaN   \n",
       "19                 NaN                            NaN                 NaN   \n",
       "\n",
       "    LandMinTemperatureUncertainty  LandAndOceanAverageTemperature  \\\n",
       "0                             NaN                             NaN   \n",
       "1                             NaN                             NaN   \n",
       "2                             NaN                             NaN   \n",
       "3                             NaN                             NaN   \n",
       "4                             NaN                             NaN   \n",
       "5                             NaN                             NaN   \n",
       "6                             NaN                             NaN   \n",
       "7                             NaN                             NaN   \n",
       "8                             NaN                             NaN   \n",
       "9                             NaN                             NaN   \n",
       "10                            NaN                             NaN   \n",
       "11                            NaN                             NaN   \n",
       "12                            NaN                             NaN   \n",
       "13                            NaN                             NaN   \n",
       "14                            NaN                             NaN   \n",
       "15                            NaN                             NaN   \n",
       "16                            NaN                             NaN   \n",
       "17                            NaN                             NaN   \n",
       "18                            NaN                             NaN   \n",
       "19                            NaN                             NaN   \n",
       "\n",
       "    LandAndOceanAverageTemperatureUncertainty  \n",
       "0                                         NaN  \n",
       "1                                         NaN  \n",
       "2                                         NaN  \n",
       "3                                         NaN  \n",
       "4                                         NaN  \n",
       "5                                         NaN  \n",
       "6                                         NaN  \n",
       "7                                         NaN  \n",
       "8                                         NaN  \n",
       "9                                         NaN  \n",
       "10                                        NaN  \n",
       "11                                        NaN  \n",
       "12                                        NaN  \n",
       "13                                        NaN  \n",
       "14                                        NaN  \n",
       "15                                        NaN  \n",
       "16                                        NaN  \n",
       "17                                        NaN  \n",
       "18                                        NaN  \n",
       "19                                        NaN  "
      ]
     },
     "execution_count": 3,
     "metadata": {},
     "output_type": "execute_result"
    }
   ],
   "source": [
    "global_temperatures_df.head(20)"
   ]
  },
  {
   "cell_type": "code",
   "execution_count": 4,
   "metadata": {
    "collapsed": false,
    "scrolled": true
   },
   "outputs": [
    {
     "data": {
      "text/plain": [
       "dt                                              0\n",
       "LandAverageTemperature                         12\n",
       "LandAverageTemperatureUncertainty              12\n",
       "LandMaxTemperature                           1200\n",
       "LandMaxTemperatureUncertainty                1200\n",
       "LandMinTemperature                           1200\n",
       "LandMinTemperatureUncertainty                1200\n",
       "LandAndOceanAverageTemperature               1200\n",
       "LandAndOceanAverageTemperatureUncertainty    1200\n",
       "dtype: int64"
      ]
     },
     "execution_count": 4,
     "metadata": {},
     "output_type": "execute_result"
    }
   ],
   "source": [
    "# Number of Null values in each field\n",
    "global_temperatures_df.isnull().sum()"
   ]
  },
  {
   "cell_type": "code",
   "execution_count": 5,
   "metadata": {
    "collapsed": false
   },
   "outputs": [
    {
     "data": {
      "text/html": [
       "<iframe id=\"igraph\" scrolling=\"no\" style=\"border:none;\" seamless=\"seamless\" src=\"https://plot.ly/~sundaresan.aravind/92.embed\" height=\"525px\" width=\"100%\"></iframe>"
      ],
      "text/plain": [
       "<plotly.tools.PlotlyDisplay object>"
      ]
     },
     "execution_count": 5,
     "metadata": {},
     "output_type": "execute_result"
    }
   ],
   "source": [
    "global_temperatures_df['dt'] = pd.to_datetime(global_temperatures_df['dt'])\n",
    "global_temperatures_df['month'] = global_temperatures_df['dt'].map(lambda x: x.month)\n",
    "global_temperatures_df['year'] = global_temperatures_df['dt'].map(lambda x: x.year)\n",
    "\n",
    "global_temperatures_yearly = global_temperatures_df.groupby('year')\n",
    "\n",
    "\n",
    "trace = go.Scatter(\n",
    "    x = global_temperatures_df['year'].unique(),\n",
    "    y = global_temperatures_yearly['LandAverageTemperature'].aggregate(np.mean),\n",
    "    name = 'Average Land Temperature',\n",
    "    line = dict(\n",
    "        color = ('rgb(255,128,0)')\n",
    "    )\n",
    ")\n",
    "\n",
    "\n",
    "data = [trace]\n",
    "layout = go.Layout(\n",
    "    title = 'Average Land Temperture of the Earth from 1750 to 2015',\n",
    "    xaxis = dict(\n",
    "        title = 'Year'\n",
    "    ),\n",
    "    yaxis = dict(\n",
    "        title = 'Average Land Temperature'\n",
    "    )\n",
    ")\n",
    "\n",
    "fig = go.Figure(data=data, layout=layout)\n",
    "py.iplot(fig, file_name='basic-line')"
   ]
  },
  {
   "cell_type": "code",
   "execution_count": 6,
   "metadata": {
    "collapsed": false,
    "scrolled": true
   },
   "outputs": [
    {
     "data": {
      "text/html": [
       "<iframe id=\"igraph\" scrolling=\"no\" style=\"border:none;\" seamless=\"seamless\" src=\"https://plot.ly/~sundaresan.aravind/94.embed\" height=\"525px\" width=\"100%\"></iframe>"
      ],
      "text/plain": [
       "<plotly.tools.PlotlyDisplay object>"
      ]
     },
     "execution_count": 6,
     "metadata": {},
     "output_type": "execute_result"
    }
   ],
   "source": [
    "global_temperatures_df = global_temperatures_df[pd.notnull(global_temperatures_df['LandMaxTemperature'])]\n",
    "\n",
    "global_temperatures_yearly = global_temperatures_df.groupby('year')\n",
    "\n",
    "trace1 = go.Scatter(\n",
    "    x = global_temperatures_df['year'].unique(),\n",
    "    y = global_temperatures_yearly['LandAverageTemperature'].aggregate(np.mean),\n",
    "    name = 'Average Land Temperature',\n",
    "    line = dict(\n",
    "        color = ('rgb(255,128,0)')\n",
    "    )\n",
    ")\n",
    "\n",
    "trace2 = go.Scatter(\n",
    "    x = global_temperatures_df['year'].unique(),\n",
    "    y = global_temperatures_yearly['LandMaxTemperature'].aggregate(np.mean),\n",
    "    name = 'Maximum Land Temperature',\n",
    "    line = dict(\n",
    "        color = ('rgb(255,0,0)')\n",
    "    )\n",
    ")\n",
    "\n",
    "trace3 = go.Scatter(\n",
    "    x = global_temperatures_df['year'].unique(),\n",
    "    y = global_temperatures_yearly['LandMinTemperature'].aggregate(np.mean),\n",
    "    name = 'Minimum Land Temperature',\n",
    "    line = dict(\n",
    "        color = ('rgb(0,0,255)')\n",
    "    )\n",
    ")\n",
    "\n",
    "\n",
    "data = [trace1, trace2, trace3]\n",
    "layout = go.Layout(\n",
    "    title = 'Land Temperture of the Earth from 1750 to 2015',\n",
    "    xaxis = dict(\n",
    "        title = 'Year'\n",
    "    ),\n",
    "    yaxis = dict(\n",
    "        title = 'Land Temperature'\n",
    "    )\n",
    ")\n",
    "\n",
    "fig = go.Figure(data=data, layout=layout)\n",
    "py.iplot(fig, file_name='basic-line')"
   ]
  },
  {
   "cell_type": "markdown",
   "metadata": {
    "collapsed": true
   },
   "source": [
    "# Visualizing the Average Temperatures in Countries"
   ]
  },
  {
   "cell_type": "code",
   "execution_count": 7,
   "metadata": {
    "collapsed": false
   },
   "outputs": [
    {
     "data": {
      "text/plain": [
       "array(['dt', 'AverageTemperature', 'AverageTemperatureUncertainty',\n",
       "       'Country'], dtype=object)"
      ]
     },
     "execution_count": 7,
     "metadata": {},
     "output_type": "execute_result"
    }
   ],
   "source": [
    "countries_temperatures_df = pd.read_csv(\"../input/GlobalLandTemperaturesByCountry.csv\")\n",
    "\n",
    "countries_temperatures_df.columns.values"
   ]
  },
  {
   "cell_type": "code",
   "execution_count": 8,
   "metadata": {
    "collapsed": false
   },
   "outputs": [
    {
     "data": {
      "text/html": [
       "<div>\n",
       "<table border=\"1\" class=\"dataframe\">\n",
       "  <thead>\n",
       "    <tr style=\"text-align: right;\">\n",
       "      <th></th>\n",
       "      <th>dt</th>\n",
       "      <th>AverageTemperature</th>\n",
       "      <th>AverageTemperatureUncertainty</th>\n",
       "      <th>Country</th>\n",
       "    </tr>\n",
       "  </thead>\n",
       "  <tbody>\n",
       "    <tr>\n",
       "      <th>0</th>\n",
       "      <td>1743-11-01</td>\n",
       "      <td>4.384</td>\n",
       "      <td>2.294</td>\n",
       "      <td>Åland</td>\n",
       "    </tr>\n",
       "    <tr>\n",
       "      <th>1</th>\n",
       "      <td>1743-12-01</td>\n",
       "      <td>NaN</td>\n",
       "      <td>NaN</td>\n",
       "      <td>Åland</td>\n",
       "    </tr>\n",
       "    <tr>\n",
       "      <th>2</th>\n",
       "      <td>1744-01-01</td>\n",
       "      <td>NaN</td>\n",
       "      <td>NaN</td>\n",
       "      <td>Åland</td>\n",
       "    </tr>\n",
       "    <tr>\n",
       "      <th>3</th>\n",
       "      <td>1744-02-01</td>\n",
       "      <td>NaN</td>\n",
       "      <td>NaN</td>\n",
       "      <td>Åland</td>\n",
       "    </tr>\n",
       "    <tr>\n",
       "      <th>4</th>\n",
       "      <td>1744-03-01</td>\n",
       "      <td>NaN</td>\n",
       "      <td>NaN</td>\n",
       "      <td>Åland</td>\n",
       "    </tr>\n",
       "    <tr>\n",
       "      <th>5</th>\n",
       "      <td>1744-04-01</td>\n",
       "      <td>1.530</td>\n",
       "      <td>4.680</td>\n",
       "      <td>Åland</td>\n",
       "    </tr>\n",
       "    <tr>\n",
       "      <th>6</th>\n",
       "      <td>1744-05-01</td>\n",
       "      <td>6.702</td>\n",
       "      <td>1.789</td>\n",
       "      <td>Åland</td>\n",
       "    </tr>\n",
       "    <tr>\n",
       "      <th>7</th>\n",
       "      <td>1744-06-01</td>\n",
       "      <td>11.609</td>\n",
       "      <td>1.577</td>\n",
       "      <td>Åland</td>\n",
       "    </tr>\n",
       "    <tr>\n",
       "      <th>8</th>\n",
       "      <td>1744-07-01</td>\n",
       "      <td>15.342</td>\n",
       "      <td>1.410</td>\n",
       "      <td>Åland</td>\n",
       "    </tr>\n",
       "    <tr>\n",
       "      <th>9</th>\n",
       "      <td>1744-08-01</td>\n",
       "      <td>NaN</td>\n",
       "      <td>NaN</td>\n",
       "      <td>Åland</td>\n",
       "    </tr>\n",
       "  </tbody>\n",
       "</table>\n",
       "</div>"
      ],
      "text/plain": [
       "           dt  AverageTemperature  AverageTemperatureUncertainty Country\n",
       "0  1743-11-01               4.384                          2.294   Åland\n",
       "1  1743-12-01                 NaN                            NaN   Åland\n",
       "2  1744-01-01                 NaN                            NaN   Åland\n",
       "3  1744-02-01                 NaN                            NaN   Åland\n",
       "4  1744-03-01                 NaN                            NaN   Åland\n",
       "5  1744-04-01               1.530                          4.680   Åland\n",
       "6  1744-05-01               6.702                          1.789   Åland\n",
       "7  1744-06-01              11.609                          1.577   Åland\n",
       "8  1744-07-01              15.342                          1.410   Åland\n",
       "9  1744-08-01                 NaN                            NaN   Åland"
      ]
     },
     "execution_count": 8,
     "metadata": {},
     "output_type": "execute_result"
    }
   ],
   "source": [
    "countries_temperatures_df.head(10)"
   ]
  },
  {
   "cell_type": "code",
   "execution_count": 9,
   "metadata": {
    "collapsed": false
   },
   "outputs": [
    {
     "data": {
      "text/plain": [
       "dt                                   0\n",
       "AverageTemperature               32651\n",
       "AverageTemperatureUncertainty    31912\n",
       "Country                              0\n",
       "dtype: int64"
      ]
     },
     "execution_count": 9,
     "metadata": {},
     "output_type": "execute_result"
    }
   ],
   "source": [
    "countries_temperatures_df.isnull().sum()"
   ]
  },
  {
   "cell_type": "code",
   "execution_count": 10,
   "metadata": {
    "collapsed": false
   },
   "outputs": [],
   "source": [
    "countries_temperatures_df = countries_temperatures_df[~countries_temperatures_df['Country'].isin(['Denmark', 'Antarctica', 'France', 'Europe', 'South America', 'Africa', 'United Kingdom', 'Netherlands'])]\n",
    "\n",
    "countries_temperatures_df = countries_temperatures_df.replace(['Denmark (Europe)', 'Netherlands (Europe)', 'France (Europe)', 'United Kingdom (Europe)'], ['Denmark', 'Netherlands', 'France', 'United Kingdom'])\n"
   ]
  },
  {
   "cell_type": "code",
   "execution_count": 11,
   "metadata": {
    "collapsed": false
   },
   "outputs": [
    {
     "data": {
      "text/html": [
       "<iframe id=\"igraph\" scrolling=\"no\" style=\"border:none;\" seamless=\"seamless\" src=\"https://plot.ly/~sundaresan.aravind/86.embed\" height=\"525px\" width=\"100%\"></iframe>"
      ],
      "text/plain": [
       "<plotly.tools.PlotlyDisplay object>"
      ]
     },
     "execution_count": 11,
     "metadata": {},
     "output_type": "execute_result"
    }
   ],
   "source": [
    "countries_aggregate_temperatures = countries_temperatures_df.groupby('Country')\n",
    "\n",
    "countries = countries_temperatures_df['Country'].unique()\n",
    "mean_temp = []\n",
    "for country in countries: \n",
    "    mean_temp.append(countries_temperatures_df[countries_temperatures_df['Country']==country]['AverageTemperature'].mean())\n",
    "\n",
    "data = [ dict(\n",
    "        type = 'choropleth',\n",
    "        locations = countries,\n",
    "        #z = countries_aggregate_temperatures['AverageTemperature'].aggregate(np.mean),\n",
    "        z= mean_temp,\n",
    "        locationmode = 'country names',\n",
    "        text = countries,\n",
    "        marker = dict(line = dict(color = 'rgb(0,0,0)', width = 1)),\n",
    "        colorbar = dict(autotick = True, tickprefix = '', title = 'Average Temperature (°C)')\n",
    "    )\n",
    "]\n",
    "\n",
    "layout = dict(\n",
    "    title = 'Average Land Temperature in Countries',\n",
    "    geo = dict(\n",
    "        showframe = False,\n",
    "        showocean = True,\n",
    "        oceancolor = 'rgb(0,255,255)',\n",
    "        projection = dict(\n",
    "            type = 'orthographic',\n",
    "            rotation = dict(\n",
    "                lon = 60,\n",
    "                lat = 10\n",
    "            ),\n",
    "        ),\n",
    "        lonaxis = dict(\n",
    "            showgrid = True,\n",
    "            gridcolor = 'rgb(102,102,102)'\n",
    "        ),\n",
    "        lataxis = dict(\n",
    "            showgrid = True,\n",
    "            gridcolor = 'rgb(102,102,102)'\n",
    "        )\n",
    "    ),\n",
    ")\n",
    "\n",
    "fig = dict(data=data, layout=layout)\n",
    "py.iplot(fig, validate=False, filename='worldmap')"
   ]
  },
  {
   "cell_type": "code",
   "execution_count": null,
   "metadata": {
    "collapsed": true
   },
   "outputs": [],
   "source": []
  }
 ],
 "metadata": {
  "kernelspec": {
   "display_name": "Python 3",
   "language": "python",
   "name": "python3"
  },
  "language_info": {
   "codemirror_mode": {
    "name": "ipython",
    "version": 3
   },
   "file_extension": ".py",
   "mimetype": "text/x-python",
   "name": "python",
   "nbconvert_exporter": "python",
   "pygments_lexer": "ipython3",
   "version": "3.5.2"
  }
 },
 "nbformat": 4,
 "nbformat_minor": 0
}
